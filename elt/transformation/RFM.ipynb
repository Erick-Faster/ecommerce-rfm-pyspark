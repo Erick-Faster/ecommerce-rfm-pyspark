{
 "cells": [
  {
   "cell_type": "code",
   "execution_count": 1,
   "id": "4b352ea2",
   "metadata": {},
   "outputs": [],
   "source": [
    "from pyspark.sql import SparkSession\n",
    "from pyspark.sql import types as T\n",
    "from pyspark.sql import functions as F"
   ]
  },
  {
   "cell_type": "code",
   "execution_count": 2,
   "id": "f605ecba",
   "metadata": {},
   "outputs": [],
   "source": [
    "spark = SparkSession.builder.appName('ecommerce-rfm').getOrCreate()"
   ]
  },
  {
   "cell_type": "markdown",
   "id": "ae7e27da",
   "metadata": {},
   "source": [
    "## I - Data Ingestion"
   ]
  },
  {
   "cell_type": "code",
   "execution_count": 3,
   "id": "16dd55a5",
   "metadata": {},
   "outputs": [],
   "source": [
    "schema = T.StructType([ \\\n",
    "    T.StructField('InvoiceNo', T.StringType(), True), \\\n",
    "    T.StructField('StockCode', T.StringType(), True), \\\n",
    "    T.StructField('Description', T.StringType(), True), \\\n",
    "    T.StructField('Quantity', T.IntegerType(), True), \\\n",
    "    T.StructField('InvoiceDate', T.StringType(), True), \\\n",
    "    T.StructField('UnitPrice', T.FloatType(), True), \\\n",
    "    T.StructField('CustomerID', T.StringType(), True), \\\n",
    "    T.StructField('Country', T.StringType(), True) \\\n",
    "])"
   ]
  },
  {
   "cell_type": "code",
   "execution_count": 4,
   "id": "5b419591",
   "metadata": {},
   "outputs": [
    {
     "name": "stdout",
     "output_type": "stream",
     "text": [
      "+---------+---------+--------------------+--------+--------------+---------+----------+--------------+\n",
      "|InvoiceNo|StockCode|         Description|Quantity|   InvoiceDate|UnitPrice|CustomerID|       Country|\n",
      "+---------+---------+--------------------+--------+--------------+---------+----------+--------------+\n",
      "|   536365|   85123A|WHITE HANGING HEA...|       6|12/1/2010 8:26|     2.55|     17850|United Kingdom|\n",
      "|   536365|    71053| WHITE METAL LANTERN|       6|12/1/2010 8:26|     3.39|     17850|United Kingdom|\n",
      "|   536365|   84406B|CREAM CUPID HEART...|       8|12/1/2010 8:26|     2.75|     17850|United Kingdom|\n",
      "|   536365|   84029G|KNITTED UNION FLA...|       6|12/1/2010 8:26|     3.39|     17850|United Kingdom|\n",
      "|   536365|   84029E|RED WOOLLY HOTTIE...|       6|12/1/2010 8:26|     3.39|     17850|United Kingdom|\n",
      "|   536365|    22752|SET 7 BABUSHKA NE...|       2|12/1/2010 8:26|     7.65|     17850|United Kingdom|\n",
      "|   536365|    21730|GLASS STAR FROSTE...|       6|12/1/2010 8:26|     4.25|     17850|United Kingdom|\n",
      "|   536366|    22633|HAND WARMER UNION...|       6|12/1/2010 8:28|     1.85|     17850|United Kingdom|\n",
      "|   536366|    22632|HAND WARMER RED P...|       6|12/1/2010 8:28|     1.85|     17850|United Kingdom|\n",
      "|   536367|    84879|ASSORTED COLOUR B...|      32|12/1/2010 8:34|     1.69|     13047|United Kingdom|\n",
      "|   536367|    22745|POPPY'S PLAYHOUSE...|       6|12/1/2010 8:34|      2.1|     13047|United Kingdom|\n",
      "|   536367|    22748|POPPY'S PLAYHOUSE...|       6|12/1/2010 8:34|      2.1|     13047|United Kingdom|\n",
      "|   536367|    22749|FELTCRAFT PRINCES...|       8|12/1/2010 8:34|     3.75|     13047|United Kingdom|\n",
      "|   536367|    22310|IVORY KNITTED MUG...|       6|12/1/2010 8:34|     1.65|     13047|United Kingdom|\n",
      "|   536367|    84969|BOX OF 6 ASSORTED...|       6|12/1/2010 8:34|     4.25|     13047|United Kingdom|\n",
      "|   536367|    22623|BOX OF VINTAGE JI...|       3|12/1/2010 8:34|     4.95|     13047|United Kingdom|\n",
      "|   536367|    22622|BOX OF VINTAGE AL...|       2|12/1/2010 8:34|     9.95|     13047|United Kingdom|\n",
      "|   536367|    21754|HOME BUILDING BLO...|       3|12/1/2010 8:34|     5.95|     13047|United Kingdom|\n",
      "|   536367|    21755|LOVE BUILDING BLO...|       3|12/1/2010 8:34|     5.95|     13047|United Kingdom|\n",
      "|   536367|    21777|RECIPE BOX WITH M...|       4|12/1/2010 8:34|     7.95|     13047|United Kingdom|\n",
      "+---------+---------+--------------------+--------+--------------+---------+----------+--------------+\n",
      "only showing top 20 rows\n",
      "\n"
     ]
    }
   ],
   "source": [
    "df_raw = spark.read.csv('data/trusted/data.csv', header=True, schema=schema)\n",
    "df_raw.show()"
   ]
  },
  {
   "cell_type": "code",
   "execution_count": 5,
   "id": "542d0df7",
   "metadata": {},
   "outputs": [
    {
     "name": "stdout",
     "output_type": "stream",
     "text": [
      "root\n",
      " |-- InvoiceNo: string (nullable = true)\n",
      " |-- StockCode: string (nullable = true)\n",
      " |-- Description: string (nullable = true)\n",
      " |-- Quantity: integer (nullable = true)\n",
      " |-- InvoiceDate: string (nullable = true)\n",
      " |-- UnitPrice: float (nullable = true)\n",
      " |-- CustomerID: string (nullable = true)\n",
      " |-- Country: string (nullable = true)\n",
      "\n"
     ]
    }
   ],
   "source": [
    "df_raw.printSchema()"
   ]
  },
  {
   "cell_type": "code",
   "execution_count": 6,
   "id": "87dac4d0",
   "metadata": {},
   "outputs": [
    {
     "data": {
      "text/plain": [
       "541909"
      ]
     },
     "execution_count": 6,
     "metadata": {},
     "output_type": "execute_result"
    }
   ],
   "source": [
    "df_raw.count()"
   ]
  },
  {
   "cell_type": "markdown",
   "id": "95f70e83",
   "metadata": {},
   "source": [
    "## II - Data Transformation"
   ]
  },
  {
   "cell_type": "markdown",
   "id": "14810a75",
   "metadata": {},
   "source": [
    "### 1 - Conversão de InvoiceDate para Timestamp"
   ]
  },
  {
   "cell_type": "code",
   "execution_count": 7,
   "id": "bca25f9f",
   "metadata": {},
   "outputs": [],
   "source": [
    "#Conversão de Data\n",
    "#PS: Nova versão do Pyspark pede que oo formato contenha somente uma letra. Ex: M/d/y ao inves de MM/dd/yyyy\n",
    "df = df_raw.withColumn('InvoiceDate', F.to_timestamp(df_raw.InvoiceDate,'M/d/y h:m'))"
   ]
  },
  {
   "cell_type": "code",
   "execution_count": 8,
   "id": "6ed0ba36",
   "metadata": {},
   "outputs": [
    {
     "name": "stdout",
     "output_type": "stream",
     "text": [
      "+---------+---------+--------------------+--------+-------------------+---------+----------+--------------+\n",
      "|InvoiceNo|StockCode|         Description|Quantity|        InvoiceDate|UnitPrice|CustomerID|       Country|\n",
      "+---------+---------+--------------------+--------+-------------------+---------+----------+--------------+\n",
      "|   536365|   85123A|WHITE HANGING HEA...|       6|2010-12-01 08:26:00|     2.55|     17850|United Kingdom|\n",
      "|   536365|    71053| WHITE METAL LANTERN|       6|2010-12-01 08:26:00|     3.39|     17850|United Kingdom|\n",
      "|   536365|   84406B|CREAM CUPID HEART...|       8|2010-12-01 08:26:00|     2.75|     17850|United Kingdom|\n",
      "|   536365|   84029G|KNITTED UNION FLA...|       6|2010-12-01 08:26:00|     3.39|     17850|United Kingdom|\n",
      "|   536365|   84029E|RED WOOLLY HOTTIE...|       6|2010-12-01 08:26:00|     3.39|     17850|United Kingdom|\n",
      "|   536365|    22752|SET 7 BABUSHKA NE...|       2|2010-12-01 08:26:00|     7.65|     17850|United Kingdom|\n",
      "|   536365|    21730|GLASS STAR FROSTE...|       6|2010-12-01 08:26:00|     4.25|     17850|United Kingdom|\n",
      "|   536366|    22633|HAND WARMER UNION...|       6|2010-12-01 08:28:00|     1.85|     17850|United Kingdom|\n",
      "|   536366|    22632|HAND WARMER RED P...|       6|2010-12-01 08:28:00|     1.85|     17850|United Kingdom|\n",
      "|   536367|    84879|ASSORTED COLOUR B...|      32|2010-12-01 08:34:00|     1.69|     13047|United Kingdom|\n",
      "|   536367|    22745|POPPY'S PLAYHOUSE...|       6|2010-12-01 08:34:00|      2.1|     13047|United Kingdom|\n",
      "|   536367|    22748|POPPY'S PLAYHOUSE...|       6|2010-12-01 08:34:00|      2.1|     13047|United Kingdom|\n",
      "|   536367|    22749|FELTCRAFT PRINCES...|       8|2010-12-01 08:34:00|     3.75|     13047|United Kingdom|\n",
      "|   536367|    22310|IVORY KNITTED MUG...|       6|2010-12-01 08:34:00|     1.65|     13047|United Kingdom|\n",
      "|   536367|    84969|BOX OF 6 ASSORTED...|       6|2010-12-01 08:34:00|     4.25|     13047|United Kingdom|\n",
      "|   536367|    22623|BOX OF VINTAGE JI...|       3|2010-12-01 08:34:00|     4.95|     13047|United Kingdom|\n",
      "|   536367|    22622|BOX OF VINTAGE AL...|       2|2010-12-01 08:34:00|     9.95|     13047|United Kingdom|\n",
      "|   536367|    21754|HOME BUILDING BLO...|       3|2010-12-01 08:34:00|     5.95|     13047|United Kingdom|\n",
      "|   536367|    21755|LOVE BUILDING BLO...|       3|2010-12-01 08:34:00|     5.95|     13047|United Kingdom|\n",
      "|   536367|    21777|RECIPE BOX WITH M...|       4|2010-12-01 08:34:00|     7.95|     13047|United Kingdom|\n",
      "+---------+---------+--------------------+--------+-------------------+---------+----------+--------------+\n",
      "only showing top 20 rows\n",
      "\n"
     ]
    }
   ],
   "source": [
    "df.show()"
   ]
  },
  {
   "cell_type": "markdown",
   "id": "27e9024d",
   "metadata": {},
   "source": [
    "### 2 - Eliminar linhas por valores"
   ]
  },
  {
   "cell_type": "code",
   "execution_count": 9,
   "id": "e63d8e27",
   "metadata": {},
   "outputs": [
    {
     "data": {
      "text/plain": [
       "'(InvoiceNo NOT IN (\"?\", \"??\", \"missing\", \"NaN\")) AND (StockCode NOT IN (\"?\", \"??\", \"missing\", \"NaN\")) AND (Description NOT IN (\"?\", \"??\", \"missing\", \"NaN\")) AND (Quantity NOT IN (\"?\", \"??\", \"missing\", \"NaN\")) AND (InvoiceDate NOT IN (\"?\", \"??\", \"missing\", \"NaN\")) AND (UnitPrice NOT IN (\"?\", \"??\", \"missing\", \"NaN\")) AND (CustomerID NOT IN (\"?\", \"??\", \"missing\", \"NaN\")) AND (Country NOT IN (\"?\", \"??\", \"missing\", \"NaN\"))'"
      ]
     },
     "execution_count": 9,
     "metadata": {},
     "output_type": "execute_result"
    }
   ],
   "source": [
    "# Cria uma expressão SQL que filtra varios valores para todas as colunas da tabela\n",
    "\n",
    "def expression_drop_columns_by_value(value):\n",
    "    dfexpr = ' AND '.join(f'({col_name} NOT IN ({value}))' for col_name in df.columns)\n",
    "    return str(dfexpr)\n",
    "\n",
    "dfexpr = expression_drop_columns_by_value('\"?\", \"??\", \"missing\", \"NaN\"')\n",
    "dfexpr"
   ]
  },
  {
   "cell_type": "code",
   "execution_count": 10,
   "id": "877fe350",
   "metadata": {},
   "outputs": [],
   "source": [
    "df = df.filter(dfexpr)\n"
   ]
  },
  {
   "cell_type": "code",
   "execution_count": 11,
   "id": "c4b4561f",
   "metadata": {},
   "outputs": [
    {
     "data": {
      "text/plain": [
       "194222"
      ]
     },
     "execution_count": 11,
     "metadata": {},
     "output_type": "execute_result"
    }
   ],
   "source": [
    "df.count()"
   ]
  },
  {
   "cell_type": "markdown",
   "id": "e64fc786",
   "metadata": {},
   "source": [
    "### 3 - Verificar e eliminar Nulos"
   ]
  },
  {
   "cell_type": "code",
   "execution_count": 12,
   "id": "79a9941a",
   "metadata": {},
   "outputs": [
    {
     "name": "stdout",
     "output_type": "stream",
     "text": [
      "+---------+---------+-----------+--------+-----------+---------+----------+-------+\n",
      "|InvoiceNo|StockCode|Description|Quantity|InvoiceDate|UnitPrice|CustomerID|Country|\n",
      "+---------+---------+-----------+--------+-----------+---------+----------+-------+\n",
      "|        0|        0|          0|       0|          0|        0|         0|      0|\n",
      "+---------+---------+-----------+--------+-----------+---------+----------+-------+\n",
      "\n"
     ]
    }
   ],
   "source": [
    "#Identificar valores nulos para todas as colunas no PySpark\n",
    "\n",
    "df.select([F.count(F.when(F.col(c).isNull(),c)).alias(c) for c in df.columns]).show()"
   ]
  },
  {
   "cell_type": "code",
   "execution_count": 13,
   "id": "6c982a93",
   "metadata": {},
   "outputs": [],
   "source": [
    "df = df.dropna()"
   ]
  },
  {
   "cell_type": "code",
   "execution_count": 14,
   "id": "3530cf7d",
   "metadata": {},
   "outputs": [
    {
     "data": {
      "text/plain": [
       "194222"
      ]
     },
     "execution_count": 14,
     "metadata": {},
     "output_type": "execute_result"
    }
   ],
   "source": [
    "df.count()"
   ]
  },
  {
   "cell_type": "markdown",
   "id": "16b69f23",
   "metadata": {},
   "source": [
    "### 4 - Ajustar Texto"
   ]
  },
  {
   "cell_type": "code",
   "execution_count": 15,
   "id": "c75111e3",
   "metadata": {},
   "outputs": [],
   "source": [
    "# Letras Minusculas\n",
    "df = df.withColumn('Description',F.lower(df.Description))"
   ]
  },
  {
   "cell_type": "code",
   "execution_count": 16,
   "id": "34d13c36",
   "metadata": {},
   "outputs": [],
   "source": [
    "# Eliminar espaços em branco na esquerda e direita - .strip() em pandas\n",
    "df = df.withColumn('Description',F.trim(df.Description))"
   ]
  },
  {
   "cell_type": "code",
   "execution_count": 17,
   "id": "567e3733",
   "metadata": {},
   "outputs": [],
   "source": [
    "# Replace\n",
    "df = df.withColumn('Description',F.regexp_replace(df.Description,'\\n', ''))"
   ]
  },
  {
   "cell_type": "code",
   "execution_count": 18,
   "id": "eb30b8d2",
   "metadata": {},
   "outputs": [
    {
     "name": "stdout",
     "output_type": "stream",
     "text": [
      "+---------+---------+--------------------+--------+-------------------+---------+----------+--------------+\n",
      "|InvoiceNo|StockCode|         Description|Quantity|        InvoiceDate|UnitPrice|CustomerID|       Country|\n",
      "+---------+---------+--------------------+--------+-------------------+---------+----------+--------------+\n",
      "|   536365|   85123A|white hanging hea...|       6|2010-12-01 08:26:00|     2.55|     17850|United Kingdom|\n",
      "|   536365|    71053| white metal lantern|       6|2010-12-01 08:26:00|     3.39|     17850|United Kingdom|\n",
      "|   536365|   84406B|cream cupid heart...|       8|2010-12-01 08:26:00|     2.75|     17850|United Kingdom|\n",
      "|   536365|   84029G|knitted union fla...|       6|2010-12-01 08:26:00|     3.39|     17850|United Kingdom|\n",
      "|   536365|   84029E|red woolly hottie...|       6|2010-12-01 08:26:00|     3.39|     17850|United Kingdom|\n",
      "|   536365|    22752|set 7 babushka ne...|       2|2010-12-01 08:26:00|     7.65|     17850|United Kingdom|\n",
      "|   536365|    21730|glass star froste...|       6|2010-12-01 08:26:00|     4.25|     17850|United Kingdom|\n",
      "|   536366|    22633|hand warmer union...|       6|2010-12-01 08:28:00|     1.85|     17850|United Kingdom|\n",
      "|   536366|    22632|hand warmer red p...|       6|2010-12-01 08:28:00|     1.85|     17850|United Kingdom|\n",
      "|   536367|    84879|assorted colour b...|      32|2010-12-01 08:34:00|     1.69|     13047|United Kingdom|\n",
      "|   536367|    22745|poppy's playhouse...|       6|2010-12-01 08:34:00|      2.1|     13047|United Kingdom|\n",
      "|   536367|    22748|poppy's playhouse...|       6|2010-12-01 08:34:00|      2.1|     13047|United Kingdom|\n",
      "|   536367|    22749|feltcraft princes...|       8|2010-12-01 08:34:00|     3.75|     13047|United Kingdom|\n",
      "|   536367|    22310|ivory knitted mug...|       6|2010-12-01 08:34:00|     1.65|     13047|United Kingdom|\n",
      "|   536367|    84969|box of 6 assorted...|       6|2010-12-01 08:34:00|     4.25|     13047|United Kingdom|\n",
      "|   536367|    22623|box of vintage ji...|       3|2010-12-01 08:34:00|     4.95|     13047|United Kingdom|\n",
      "|   536367|    22622|box of vintage al...|       2|2010-12-01 08:34:00|     9.95|     13047|United Kingdom|\n",
      "|   536367|    21754|home building blo...|       3|2010-12-01 08:34:00|     5.95|     13047|United Kingdom|\n",
      "|   536367|    21755|love building blo...|       3|2010-12-01 08:34:00|     5.95|     13047|United Kingdom|\n",
      "|   536367|    21777|recipe box with m...|       4|2010-12-01 08:34:00|     7.95|     13047|United Kingdom|\n",
      "+---------+---------+--------------------+--------+-------------------+---------+----------+--------------+\n",
      "only showing top 20 rows\n",
      "\n"
     ]
    }
   ],
   "source": [
    "df.show()"
   ]
  },
  {
   "cell_type": "markdown",
   "id": "8b2af7ca",
   "metadata": {},
   "source": [
    "### 5 - Filtrar Descrições que não são itens"
   ]
  },
  {
   "cell_type": "code",
   "execution_count": 19,
   "id": "506bc305",
   "metadata": {},
   "outputs": [
    {
     "data": {
      "text/plain": [
       "193245"
      ]
     },
     "execution_count": 19,
     "metadata": {},
     "output_type": "execute_result"
    }
   ],
   "source": [
    "#Eliminar valores especificos\n",
    "df = df.filter(~df.Description.isin([\"amazon fee\", \"samples\", \"postage\", \"packing charge\",\"manual\",\"discount\",\"adjust bad debt\",\"bank charges\",\"cruk commission\",\"next day carriage\"]))\n",
    "df.count()"
   ]
  },
  {
   "cell_type": "code",
   "execution_count": 20,
   "id": "05ba9f34",
   "metadata": {},
   "outputs": [
    {
     "data": {
      "text/plain": [
       "189391"
      ]
     },
     "execution_count": 20,
     "metadata": {},
     "output_type": "execute_result"
    }
   ],
   "source": [
    "#Eliminar valores nulos e negativos\n",
    "df = df.filter((df.UnitPrice > 0) & (df.Quantity > 0))\n",
    "df.count()"
   ]
  },
  {
   "cell_type": "code",
   "execution_count": 21,
   "id": "2b9300fc",
   "metadata": {},
   "outputs": [
    {
     "name": "stdout",
     "output_type": "stream",
     "text": [
      "+---------+---------+--------------------+--------+-------------------+---------+----------+--------------+\n",
      "|InvoiceNo|StockCode|         Description|Quantity|        InvoiceDate|UnitPrice|CustomerID|       Country|\n",
      "+---------+---------+--------------------+--------+-------------------+---------+----------+--------------+\n",
      "|   536365|   85123A|white hanging hea...|       6|2010-12-01 08:26:00|     2.55|     17850|United Kingdom|\n",
      "|   536365|    71053| white metal lantern|       6|2010-12-01 08:26:00|     3.39|     17850|United Kingdom|\n",
      "|   536365|   84406B|cream cupid heart...|       8|2010-12-01 08:26:00|     2.75|     17850|United Kingdom|\n",
      "|   536365|   84029G|knitted union fla...|       6|2010-12-01 08:26:00|     3.39|     17850|United Kingdom|\n",
      "|   536365|   84029E|red woolly hottie...|       6|2010-12-01 08:26:00|     3.39|     17850|United Kingdom|\n",
      "|   536365|    22752|set 7 babushka ne...|       2|2010-12-01 08:26:00|     7.65|     17850|United Kingdom|\n",
      "|   536365|    21730|glass star froste...|       6|2010-12-01 08:26:00|     4.25|     17850|United Kingdom|\n",
      "|   536366|    22633|hand warmer union...|       6|2010-12-01 08:28:00|     1.85|     17850|United Kingdom|\n",
      "|   536366|    22632|hand warmer red p...|       6|2010-12-01 08:28:00|     1.85|     17850|United Kingdom|\n",
      "|   536367|    84879|assorted colour b...|      32|2010-12-01 08:34:00|     1.69|     13047|United Kingdom|\n",
      "|   536367|    22745|poppy's playhouse...|       6|2010-12-01 08:34:00|      2.1|     13047|United Kingdom|\n",
      "|   536367|    22748|poppy's playhouse...|       6|2010-12-01 08:34:00|      2.1|     13047|United Kingdom|\n",
      "|   536367|    22749|feltcraft princes...|       8|2010-12-01 08:34:00|     3.75|     13047|United Kingdom|\n",
      "|   536367|    22310|ivory knitted mug...|       6|2010-12-01 08:34:00|     1.65|     13047|United Kingdom|\n",
      "|   536367|    84969|box of 6 assorted...|       6|2010-12-01 08:34:00|     4.25|     13047|United Kingdom|\n",
      "|   536367|    22623|box of vintage ji...|       3|2010-12-01 08:34:00|     4.95|     13047|United Kingdom|\n",
      "|   536367|    22622|box of vintage al...|       2|2010-12-01 08:34:00|     9.95|     13047|United Kingdom|\n",
      "|   536367|    21754|home building blo...|       3|2010-12-01 08:34:00|     5.95|     13047|United Kingdom|\n",
      "|   536367|    21755|love building blo...|       3|2010-12-01 08:34:00|     5.95|     13047|United Kingdom|\n",
      "|   536367|    21777|recipe box with m...|       4|2010-12-01 08:34:00|     7.95|     13047|United Kingdom|\n",
      "+---------+---------+--------------------+--------+-------------------+---------+----------+--------------+\n",
      "only showing top 20 rows\n",
      "\n"
     ]
    }
   ],
   "source": [
    "df.show()"
   ]
  },
  {
   "cell_type": "markdown",
   "id": "60f77e94",
   "metadata": {},
   "source": [
    "### 6 - Adicionar Coluna para diferença de tempo entre hoje e ultima compra"
   ]
  },
  {
   "cell_type": "code",
   "execution_count": 22,
   "id": "0d8e4326",
   "metadata": {},
   "outputs": [
    {
     "name": "stdout",
     "output_type": "stream",
     "text": [
      "+---------+---------+--------------------+--------+-------------------+---------+----------+--------------+-------------+\n",
      "|InvoiceNo|StockCode|         Description|Quantity|        InvoiceDate|UnitPrice|CustomerID|       Country|DaysFromToday|\n",
      "+---------+---------+--------------------+--------+-------------------+---------+----------+--------------+-------------+\n",
      "|   536365|   85123A|white hanging hea...|       6|2010-12-01 08:26:00|     2.55|     17850|United Kingdom|          373|\n",
      "|   536365|    71053| white metal lantern|       6|2010-12-01 08:26:00|     3.39|     17850|United Kingdom|          373|\n",
      "|   536365|   84406B|cream cupid heart...|       8|2010-12-01 08:26:00|     2.75|     17850|United Kingdom|          373|\n",
      "|   536365|   84029G|knitted union fla...|       6|2010-12-01 08:26:00|     3.39|     17850|United Kingdom|          373|\n",
      "|   536365|   84029E|red woolly hottie...|       6|2010-12-01 08:26:00|     3.39|     17850|United Kingdom|          373|\n",
      "|   536365|    22752|set 7 babushka ne...|       2|2010-12-01 08:26:00|     7.65|     17850|United Kingdom|          373|\n",
      "|   536365|    21730|glass star froste...|       6|2010-12-01 08:26:00|     4.25|     17850|United Kingdom|          373|\n",
      "|   536366|    22633|hand warmer union...|       6|2010-12-01 08:28:00|     1.85|     17850|United Kingdom|          373|\n",
      "|   536366|    22632|hand warmer red p...|       6|2010-12-01 08:28:00|     1.85|     17850|United Kingdom|          373|\n",
      "|   536367|    84879|assorted colour b...|      32|2010-12-01 08:34:00|     1.69|     13047|United Kingdom|          373|\n",
      "|   536367|    22745|poppy's playhouse...|       6|2010-12-01 08:34:00|      2.1|     13047|United Kingdom|          373|\n",
      "|   536367|    22748|poppy's playhouse...|       6|2010-12-01 08:34:00|      2.1|     13047|United Kingdom|          373|\n",
      "|   536367|    22749|feltcraft princes...|       8|2010-12-01 08:34:00|     3.75|     13047|United Kingdom|          373|\n",
      "|   536367|    22310|ivory knitted mug...|       6|2010-12-01 08:34:00|     1.65|     13047|United Kingdom|          373|\n",
      "|   536367|    84969|box of 6 assorted...|       6|2010-12-01 08:34:00|     4.25|     13047|United Kingdom|          373|\n",
      "|   536367|    22623|box of vintage ji...|       3|2010-12-01 08:34:00|     4.95|     13047|United Kingdom|          373|\n",
      "|   536367|    22622|box of vintage al...|       2|2010-12-01 08:34:00|     9.95|     13047|United Kingdom|          373|\n",
      "|   536367|    21754|home building blo...|       3|2010-12-01 08:34:00|     5.95|     13047|United Kingdom|          373|\n",
      "|   536367|    21755|love building blo...|       3|2010-12-01 08:34:00|     5.95|     13047|United Kingdom|          373|\n",
      "|   536367|    21777|recipe box with m...|       4|2010-12-01 08:34:00|     7.95|     13047|United Kingdom|          373|\n",
      "+---------+---------+--------------------+--------+-------------------+---------+----------+--------------+-------------+\n",
      "only showing top 20 rows\n",
      "\n"
     ]
    }
   ],
   "source": [
    "#Codigo se for para o dia atual\n",
    "#df.withColumn('DaysFromToday', F.datediff(F.current_date(),F.col('InvoiceDate'))).show(5000)\n",
    "\n",
    "#Codigo para data determinada\n",
    "df = df.withColumn('DaysFromToday', F.datediff(F.lit('2011-12-09 00:00:00.0000'),F.col('InvoiceDate')))\n",
    "df.show()"
   ]
  },
  {
   "cell_type": "markdown",
   "id": "d3a47a20",
   "metadata": {},
   "source": [
    "##### Funcoes que usam DateType e TimestampType aceitam no seguinte formato:\n",
    "###### DateType default format is yyyy-MM-dd \n",
    "###### TimestampType default format is yyyy-MM-dd HH:mm:ss.SSSS"
   ]
  },
  {
   "cell_type": "markdown",
   "id": "56f5ca10",
   "metadata": {},
   "source": [
    "## III - Criação da Tabela RFM"
   ]
  },
  {
   "cell_type": "markdown",
   "id": "b6fba8b1",
   "metadata": {},
   "source": [
    "### 1 - Agrupar dados para RFM"
   ]
  },
  {
   "cell_type": "code",
   "execution_count": 23,
   "id": "adc2e49b",
   "metadata": {},
   "outputs": [
    {
     "name": "stdout",
     "output_type": "stream",
     "text": [
      "+----------+----------------+----------------+------------------+\n",
      "|CustomerID|MinDaysFromToday|CountUniqueItems|      SumUnitPrice|\n",
      "+----------+----------------+----------------+------------------+\n",
      "|     16250|             373|               1|  47.2699992954731|\n",
      "|     15555|              33|               5| 424.4699979946017|\n",
      "|     15574|             177|               3|169.06999880075455|\n",
      "|     15271|              36|               6| 267.1999993920326|\n",
      "|     17714|             320|               1|              20.5|\n",
      "|     12637|              91|               4| 440.4699971526861|\n",
      "|     13107|              85|               3| 99.52999895811081|\n",
      "|     13027|             113|               4| 7.600000113248825|\n",
      "|     12957|               9|               5|403.70999773964286|\n",
      "|     17128|             334|               1|55.790000200271606|\n",
      "|     14439|             319|               1|207.38999783992767|\n",
      "|     14810|              40|               9| 497.9999971687794|\n",
      "|     17491|              36|               5|135.48999828100204|\n",
      "|     17917|             362|               1| 67.59999996423721|\n",
      "|     18106|             329|               1|153.49999856948853|\n",
      "|     17855|             372|               1| 30.01999968290329|\n",
      "|     14443|              53|               3|198.88999992609024|\n",
      "|     12386|             337|               2| 23.90999984741211|\n",
      "|     15107|             332|               1|               8.5|\n",
      "|     18161|              64|               3|168.05999836325645|\n",
      "+----------+----------------+----------------+------------------+\n",
      "only showing top 20 rows\n",
      "\n"
     ]
    }
   ],
   "source": [
    "df_rfm = df.groupBy('CustomerID').agg(F.min('DaysFromToday').alias('MinDaysFromToday'), \\\n",
    "                             F.approx_count_distinct('InvoiceNo').alias('CountUniqueItems'), \\\n",
    "                             F.sum('UnitPrice').alias('SumUnitPrice'))\n",
    "df_rfm.show()"
   ]
  },
  {
   "cell_type": "markdown",
   "id": "e9d5eed8",
   "metadata": {},
   "source": [
    "###### SumUnitPrice -> Soma dos Preços\n",
    "###### CountUniqueItems -> Contagem distinta dos itens comprados\n",
    "###### MinDaysFromToday -> Dias entre hoje e data da última compra"
   ]
  },
  {
   "cell_type": "markdown",
   "id": "5e8e8b82",
   "metadata": {},
   "source": [
    "### 2 - Arredondar valores de Preço"
   ]
  },
  {
   "cell_type": "code",
   "execution_count": 24,
   "id": "ac210171",
   "metadata": {},
   "outputs": [
    {
     "name": "stdout",
     "output_type": "stream",
     "text": [
      "+----------+----------------+----------------+------------+\n",
      "|CustomerID|MinDaysFromToday|CountUniqueItems|SumUnitPrice|\n",
      "+----------+----------------+----------------+------------+\n",
      "|     16250|             373|               1|       47.27|\n",
      "|     15555|              33|               5|      424.47|\n",
      "|     15574|             177|               3|      169.07|\n",
      "|     15271|              36|               6|       267.2|\n",
      "|     17714|             320|               1|        20.5|\n",
      "|     12637|              91|               4|      440.47|\n",
      "|     13107|              85|               3|       99.53|\n",
      "|     13027|             113|               4|         7.6|\n",
      "|     12957|               9|               5|      403.71|\n",
      "|     17128|             334|               1|       55.79|\n",
      "|     14439|             319|               1|      207.39|\n",
      "|     14810|              40|               9|       498.0|\n",
      "|     17491|              36|               5|      135.49|\n",
      "|     17917|             362|               1|        67.6|\n",
      "|     18106|             329|               1|       153.5|\n",
      "|     17855|             372|               1|       30.02|\n",
      "|     14443|              53|               3|      198.89|\n",
      "|     12386|             337|               2|       23.91|\n",
      "|     15107|             332|               1|         8.5|\n",
      "|     18161|              64|               3|      168.06|\n",
      "+----------+----------------+----------------+------------+\n",
      "only showing top 20 rows\n",
      "\n"
     ]
    }
   ],
   "source": [
    "df_rfm = df_rfm.withColumn('SumUnitPrice', F.round('SumUnitPrice',2))\n",
    "df_rfm.show()"
   ]
  },
  {
   "cell_type": "markdown",
   "id": "65b9d245",
   "metadata": {},
   "source": [
    "### 3 - Visualizar ordenação por dias desde a última compra"
   ]
  },
  {
   "cell_type": "code",
   "execution_count": 25,
   "id": "b7cb6687",
   "metadata": {},
   "outputs": [
    {
     "name": "stdout",
     "output_type": "stream",
     "text": [
      "+----------+----------------+----------------+------------+\n",
      "|CustomerID|MinDaysFromToday|CountUniqueItems|SumUnitPrice|\n",
      "+----------+----------------+----------------+------------+\n",
      "|     12423|               0|               8|       244.2|\n",
      "|     16705|               0|              12|      666.71|\n",
      "|     16954|               0|               7|      152.07|\n",
      "|     15910|               0|               5|      320.89|\n",
      "|     13069|               0|              13|       433.2|\n",
      "|     17389|               0|              13|      377.52|\n",
      "|     16558|               0|               8|      584.08|\n",
      "|     13777|               0|              16|      244.16|\n",
      "|     15694|               0|               7|      216.84|\n",
      "|     14051|               0|               9|      436.58|\n",
      "|     12748|               0|              68|     3854.81|\n",
      "|     17001|               0|               7|      295.21|\n",
      "|     15311|               0|              31|      2088.9|\n",
      "|     17581|               0|              18|     1049.07|\n",
      "|     13426|               0|               7|      197.98|\n",
      "|     17428|               0|              16|      650.95|\n",
      "|     16626|               0|              10|      517.28|\n",
      "|     17364|               0|               6|      528.41|\n",
      "|     13113|               0|              17|      426.76|\n",
      "|     14446|               0|               4|      538.55|\n",
      "+----------+----------------+----------------+------------+\n",
      "only showing top 20 rows\n",
      "\n"
     ]
    }
   ],
   "source": [
    "df_rfm.orderBy('MinDaysFromToday').show()"
   ]
  },
  {
   "cell_type": "markdown",
   "id": "e62fbf5f",
   "metadata": {},
   "source": [
    "### 4 - Renomear Colunas"
   ]
  },
  {
   "cell_type": "code",
   "execution_count": 26,
   "id": "2bd8fdbe",
   "metadata": {},
   "outputs": [
    {
     "name": "stdout",
     "output_type": "stream",
     "text": [
      "+----------+-------+---------+--------+\n",
      "|CustomerID|Recency|Frequency|Monetary|\n",
      "+----------+-------+---------+--------+\n",
      "|     16250|    373|        1|   47.27|\n",
      "|     15555|     33|        5|  424.47|\n",
      "|     15574|    177|        3|  169.07|\n",
      "|     15271|     36|        6|   267.2|\n",
      "|     17714|    320|        1|    20.5|\n",
      "|     12637|     91|        4|  440.47|\n",
      "|     13107|     85|        3|   99.53|\n",
      "|     13027|    113|        4|     7.6|\n",
      "|     12957|      9|        5|  403.71|\n",
      "|     17128|    334|        1|   55.79|\n",
      "|     14439|    319|        1|  207.39|\n",
      "|     14810|     40|        9|   498.0|\n",
      "|     17491|     36|        5|  135.49|\n",
      "|     17917|    362|        1|    67.6|\n",
      "|     18106|    329|        1|   153.5|\n",
      "|     17855|    372|        1|   30.02|\n",
      "|     14443|     53|        3|  198.89|\n",
      "|     12386|    337|        2|   23.91|\n",
      "|     15107|    332|        1|     8.5|\n",
      "|     18161|     64|        3|  168.06|\n",
      "+----------+-------+---------+--------+\n",
      "only showing top 20 rows\n",
      "\n"
     ]
    }
   ],
   "source": [
    "df_rfm = df_rfm.withColumnRenamed('MinDaysFromToday', 'Recency') \\\n",
    "               .withColumnRenamed('CountUniqueItems', 'Frequency') \\\n",
    "               .withColumnRenamed('SumUnitPrice', 'Monetary')\n",
    "df_rfm.show()"
   ]
  },
  {
   "cell_type": "markdown",
   "id": "97e8981f",
   "metadata": {},
   "source": [
    "### 5 - Definir Quartis"
   ]
  },
  {
   "cell_type": "code",
   "execution_count": 27,
   "id": "36e7f8ad",
   "metadata": {},
   "outputs": [
    {
     "data": {
      "text/plain": [
       "[22.0, 67.0, 177.0]"
      ]
     },
     "execution_count": 27,
     "metadata": {},
     "output_type": "execute_result"
    }
   ],
   "source": [
    "recency_quartile = df_rfm.approxQuantile(\"Recency\", [0.25,0.5,0.75], 0)\n",
    "recency_quartile"
   ]
  },
  {
   "cell_type": "code",
   "execution_count": 28,
   "id": "333142ca",
   "metadata": {},
   "outputs": [
    {
     "data": {
      "text/plain": [
       "[1.0, 2.0, 3.0]"
      ]
     },
     "execution_count": 28,
     "metadata": {},
     "output_type": "execute_result"
    }
   ],
   "source": [
    "frequency_quartile = df_rfm.approxQuantile(\"Frequency\", [0.25,0.5,0.75], 0)\n",
    "frequency_quartile"
   ]
  },
  {
   "cell_type": "code",
   "execution_count": 29,
   "id": "578244af",
   "metadata": {},
   "outputs": [
    {
     "data": {
      "text/plain": [
       "[37.69, 89.43, 198.79]"
      ]
     },
     "execution_count": 29,
     "metadata": {},
     "output_type": "execute_result"
    }
   ],
   "source": [
    "monetary_quartile = df_rfm.approxQuantile(\"Monetary\", [0.25,0.5,0.75], 0)\n",
    "monetary_quartile"
   ]
  },
  {
   "cell_type": "markdown",
   "id": "3ebadef2",
   "metadata": {},
   "source": [
    "### 6 - Definir pontuações RFM"
   ]
  },
  {
   "cell_type": "code",
   "execution_count": 30,
   "id": "f03b6b12",
   "metadata": {},
   "outputs": [
    {
     "name": "stdout",
     "output_type": "stream",
     "text": [
      "+----------+-------+---------+--------+---------------+\n",
      "|CustomerID|Recency|Frequency|Monetary|RecencyQuartile|\n",
      "+----------+-------+---------+--------+---------------+\n",
      "|     16250|    373|        1|   47.27|              1|\n",
      "|     15555|     33|        5|  424.47|              3|\n",
      "|     15574|    177|        3|  169.07|              1|\n",
      "|     15271|     36|        6|   267.2|              3|\n",
      "|     17714|    320|        1|    20.5|              1|\n",
      "|     12637|     91|        4|  440.47|              2|\n",
      "|     13107|     85|        3|   99.53|              2|\n",
      "|     13027|    113|        4|     7.6|              2|\n",
      "|     12957|      9|        5|  403.71|              4|\n",
      "|     17128|    334|        1|   55.79|              1|\n",
      "|     14439|    319|        1|  207.39|              1|\n",
      "|     14810|     40|        9|   498.0|              3|\n",
      "|     17491|     36|        5|  135.49|              3|\n",
      "|     17917|    362|        1|    67.6|              1|\n",
      "|     18106|    329|        1|   153.5|              1|\n",
      "|     17855|    372|        1|   30.02|              1|\n",
      "|     14443|     53|        3|  198.89|              3|\n",
      "|     12386|    337|        2|   23.91|              1|\n",
      "|     15107|    332|        1|     8.5|              1|\n",
      "|     18161|     64|        3|  168.06|              3|\n",
      "+----------+-------+---------+--------+---------------+\n",
      "only showing top 20 rows\n",
      "\n"
     ]
    }
   ],
   "source": [
    "# Quanto menor Recency, melhor\n",
    "df_rfm = df_rfm.withColumn('RecencyQuartile',\\\n",
    "                           F.when(df_rfm.Recency >= recency_quartile[2], 1).\\\n",
    "                           when(df_rfm.Recency >= recency_quartile[1], 2).\\\n",
    "                           when(df_rfm.Recency >= recency_quartile[0], 3).\\\n",
    "                           otherwise(4))\n",
    "df_rfm.show()"
   ]
  },
  {
   "cell_type": "markdown",
   "id": "fedaa14c",
   "metadata": {},
   "source": [
    "##### Não precisa repetir function F no encadeamento dos 'when'. Somente o primeiro já é o suficiente"
   ]
  },
  {
   "cell_type": "code",
   "execution_count": 31,
   "id": "96cd1a75",
   "metadata": {},
   "outputs": [
    {
     "name": "stdout",
     "output_type": "stream",
     "text": [
      "+----------+-------+---------+--------+---------------+-----------------+\n",
      "|CustomerID|Recency|Frequency|Monetary|RecencyQuartile|FrequencyQuartile|\n",
      "+----------+-------+---------+--------+---------------+-----------------+\n",
      "|     16250|    373|        1|   47.27|              1|                1|\n",
      "|     15555|     33|        5|  424.47|              3|                4|\n",
      "|     15574|    177|        3|  169.07|              1|                3|\n",
      "|     15271|     36|        6|   267.2|              3|                4|\n",
      "|     17714|    320|        1|    20.5|              1|                1|\n",
      "|     12637|     91|        4|  440.47|              2|                4|\n",
      "|     13107|     85|        3|   99.53|              2|                3|\n",
      "|     13027|    113|        4|     7.6|              2|                4|\n",
      "|     12957|      9|        5|  403.71|              4|                4|\n",
      "|     17128|    334|        1|   55.79|              1|                1|\n",
      "|     14439|    319|        1|  207.39|              1|                1|\n",
      "|     14810|     40|        9|   498.0|              3|                4|\n",
      "|     17491|     36|        5|  135.49|              3|                4|\n",
      "|     17917|    362|        1|    67.6|              1|                1|\n",
      "|     18106|    329|        1|   153.5|              1|                1|\n",
      "|     17855|    372|        1|   30.02|              1|                1|\n",
      "|     14443|     53|        3|  198.89|              3|                3|\n",
      "|     12386|    337|        2|   23.91|              1|                2|\n",
      "|     15107|    332|        1|     8.5|              1|                1|\n",
      "|     18161|     64|        3|  168.06|              3|                3|\n",
      "+----------+-------+---------+--------+---------------+-----------------+\n",
      "only showing top 20 rows\n",
      "\n"
     ]
    }
   ],
   "source": [
    "# Quanto maior Frequency, melhor\n",
    "df_rfm = df_rfm.withColumn('FrequencyQuartile',\\\n",
    "                           F.when(df_rfm.Frequency > frequency_quartile[2], 4).\\\n",
    "                           when(df_rfm.Frequency > frequency_quartile[1], 3).\\\n",
    "                           when(df_rfm.Frequency > frequency_quartile[0], 2).\\\n",
    "                           otherwise(1))\n",
    "df_rfm.show()"
   ]
  },
  {
   "cell_type": "code",
   "execution_count": 32,
   "id": "fcc676c8",
   "metadata": {},
   "outputs": [
    {
     "name": "stdout",
     "output_type": "stream",
     "text": [
      "+----------+-------+---------+--------+---------------+-----------------+----------------+\n",
      "|CustomerID|Recency|Frequency|Monetary|RecencyQuartile|FrequencyQuartile|MonetaryQuartile|\n",
      "+----------+-------+---------+--------+---------------+-----------------+----------------+\n",
      "|     16250|    373|        1|   47.27|              1|                1|               2|\n",
      "|     15555|     33|        5|  424.47|              3|                4|               4|\n",
      "|     15574|    177|        3|  169.07|              1|                3|               3|\n",
      "|     15271|     36|        6|   267.2|              3|                4|               4|\n",
      "|     17714|    320|        1|    20.5|              1|                1|               1|\n",
      "|     12637|     91|        4|  440.47|              2|                4|               4|\n",
      "|     13107|     85|        3|   99.53|              2|                3|               3|\n",
      "|     13027|    113|        4|     7.6|              2|                4|               1|\n",
      "|     12957|      9|        5|  403.71|              4|                4|               4|\n",
      "|     17128|    334|        1|   55.79|              1|                1|               2|\n",
      "|     14439|    319|        1|  207.39|              1|                1|               4|\n",
      "|     14810|     40|        9|   498.0|              3|                4|               4|\n",
      "|     17491|     36|        5|  135.49|              3|                4|               3|\n",
      "|     17917|    362|        1|    67.6|              1|                1|               2|\n",
      "|     18106|    329|        1|   153.5|              1|                1|               3|\n",
      "|     17855|    372|        1|   30.02|              1|                1|               1|\n",
      "|     14443|     53|        3|  198.89|              3|                3|               4|\n",
      "|     12386|    337|        2|   23.91|              1|                2|               1|\n",
      "|     15107|    332|        1|     8.5|              1|                1|               1|\n",
      "|     18161|     64|        3|  168.06|              3|                3|               3|\n",
      "+----------+-------+---------+--------+---------------+-----------------+----------------+\n",
      "only showing top 20 rows\n",
      "\n"
     ]
    }
   ],
   "source": [
    "# Quanto maior Monetary, melhor\n",
    "df_rfm = df_rfm.withColumn('MonetaryQuartile',\\\n",
    "                           F.when(df_rfm.Monetary >= monetary_quartile[2], 4).\\\n",
    "                           when(df_rfm.Monetary >= monetary_quartile[1], 3).\\\n",
    "                           when(df_rfm.Monetary >= monetary_quartile[0], 2).\\\n",
    "                           otherwise(1))\n",
    "df_rfm.show()"
   ]
  },
  {
   "cell_type": "code",
   "execution_count": 33,
   "id": "2d993b17",
   "metadata": {},
   "outputs": [
    {
     "name": "stdout",
     "output_type": "stream",
     "text": [
      "+----------+-------+---------+--------+---------------+-----------------+----------------+--------+\n",
      "|CustomerID|Recency|Frequency|Monetary|RecencyQuartile|FrequencyQuartile|MonetaryQuartile|RFMScore|\n",
      "+----------+-------+---------+--------+---------------+-----------------+----------------+--------+\n",
      "|     16250|    373|        1|   47.27|              1|                1|               2|     112|\n",
      "|     15555|     33|        5|  424.47|              3|                4|               4|     344|\n",
      "|     15574|    177|        3|  169.07|              1|                3|               3|     133|\n",
      "|     15271|     36|        6|   267.2|              3|                4|               4|     344|\n",
      "|     17714|    320|        1|    20.5|              1|                1|               1|     111|\n",
      "|     12637|     91|        4|  440.47|              2|                4|               4|     244|\n",
      "|     13107|     85|        3|   99.53|              2|                3|               3|     233|\n",
      "|     13027|    113|        4|     7.6|              2|                4|               1|     241|\n",
      "|     12957|      9|        5|  403.71|              4|                4|               4|     444|\n",
      "|     17128|    334|        1|   55.79|              1|                1|               2|     112|\n",
      "|     14439|    319|        1|  207.39|              1|                1|               4|     114|\n",
      "|     14810|     40|        9|   498.0|              3|                4|               4|     344|\n",
      "|     17491|     36|        5|  135.49|              3|                4|               3|     343|\n",
      "|     17917|    362|        1|    67.6|              1|                1|               2|     112|\n",
      "|     18106|    329|        1|   153.5|              1|                1|               3|     113|\n",
      "|     17855|    372|        1|   30.02|              1|                1|               1|     111|\n",
      "|     14443|     53|        3|  198.89|              3|                3|               4|     334|\n",
      "|     12386|    337|        2|   23.91|              1|                2|               1|     121|\n",
      "|     15107|    332|        1|     8.5|              1|                1|               1|     111|\n",
      "|     18161|     64|        3|  168.06|              3|                3|               3|     333|\n",
      "+----------+-------+---------+--------+---------------+-----------------+----------------+--------+\n",
      "only showing top 20 rows\n",
      "\n"
     ]
    }
   ],
   "source": [
    "df_rfm = df_rfm.withColumn('RFMScore', F.concat(df_rfm.RecencyQuartile, \\\n",
    "                                                df_rfm.FrequencyQuartile, \\\n",
    "                                                df_rfm.MonetaryQuartile).\\\n",
    "                                                cast('String'))\n",
    "df_rfm.show()"
   ]
  },
  {
   "cell_type": "code",
   "execution_count": 34,
   "id": "606d3866",
   "metadata": {},
   "outputs": [
    {
     "name": "stdout",
     "output_type": "stream",
     "text": [
      "+----------+-------+---------+--------+---------------+-----------------+----------------+--------+-------+\n",
      "|CustomerID|Recency|Frequency|Monetary|RecencyQuartile|FrequencyQuartile|MonetaryQuartile|RFMScore|RFScore|\n",
      "+----------+-------+---------+--------+---------------+-----------------+----------------+--------+-------+\n",
      "|     16250|    373|        1|   47.27|              1|                1|               2|     112|     11|\n",
      "|     15555|     33|        5|  424.47|              3|                4|               4|     344|     34|\n",
      "|     15574|    177|        3|  169.07|              1|                3|               3|     133|     13|\n",
      "|     15271|     36|        6|   267.2|              3|                4|               4|     344|     34|\n",
      "|     17714|    320|        1|    20.5|              1|                1|               1|     111|     11|\n",
      "|     12637|     91|        4|  440.47|              2|                4|               4|     244|     24|\n",
      "|     13107|     85|        3|   99.53|              2|                3|               3|     233|     23|\n",
      "|     13027|    113|        4|     7.6|              2|                4|               1|     241|     24|\n",
      "|     12957|      9|        5|  403.71|              4|                4|               4|     444|     44|\n",
      "|     17128|    334|        1|   55.79|              1|                1|               2|     112|     11|\n",
      "|     14439|    319|        1|  207.39|              1|                1|               4|     114|     11|\n",
      "|     14810|     40|        9|   498.0|              3|                4|               4|     344|     34|\n",
      "|     17491|     36|        5|  135.49|              3|                4|               3|     343|     34|\n",
      "|     17917|    362|        1|    67.6|              1|                1|               2|     112|     11|\n",
      "|     18106|    329|        1|   153.5|              1|                1|               3|     113|     11|\n",
      "|     17855|    372|        1|   30.02|              1|                1|               1|     111|     11|\n",
      "|     14443|     53|        3|  198.89|              3|                3|               4|     334|     33|\n",
      "|     12386|    337|        2|   23.91|              1|                2|               1|     121|     12|\n",
      "|     15107|    332|        1|     8.5|              1|                1|               1|     111|     11|\n",
      "|     18161|     64|        3|  168.06|              3|                3|               3|     333|     33|\n",
      "+----------+-------+---------+--------+---------------+-----------------+----------------+--------+-------+\n",
      "only showing top 20 rows\n",
      "\n"
     ]
    }
   ],
   "source": [
    "df_rfm = df_rfm.withColumn('RFScore', F.concat(df_rfm.RecencyQuartile, \\\n",
    "                                                df_rfm.FrequencyQuartile).\\\n",
    "                                                cast('String'))\n",
    "df_rfm.show()"
   ]
  },
  {
   "cell_type": "markdown",
   "id": "a861ace8",
   "metadata": {},
   "source": [
    "### 7 - Definir Classe de Cliente"
   ]
  },
  {
   "cell_type": "code",
   "execution_count": 35,
   "id": "c52b6014",
   "metadata": {},
   "outputs": [
    {
     "name": "stdout",
     "output_type": "stream",
     "text": [
      "+----------+-------+---------+--------+---------------+-----------------+----------------+--------+-------+------------------+\n",
      "|CustomerID|Recency|Frequency|Monetary|RecencyQuartile|FrequencyQuartile|MonetaryQuartile|RFMScore|RFScore|     CustomerClass|\n",
      "+----------+-------+---------+--------+---------------+-----------------+----------------+--------+-------+------------------+\n",
      "|     16250|    373|        1|   47.27|              1|                1|               2|     112|     11|        Hibernando|\n",
      "|     15555|     33|        5|  424.47|              3|                4|               4|     344|     34|    Clientes Fieis|\n",
      "|     15574|    177|        3|  169.07|              1|                3|               3|     133|     13|          Em Risco|\n",
      "|     15271|     36|        6|   267.2|              3|                4|               4|     344|     34|    Clientes Fieis|\n",
      "|     17714|    320|        1|    20.5|              1|                1|               1|     111|     11|        Hibernando|\n",
      "|     12637|     91|        4|  440.47|              2|                4|               4|     244|     24|    Clientes Fieis|\n",
      "|     13107|     85|        3|   99.53|              2|                3|               3|     233|     23|Precisa de Atenção|\n",
      "|     13027|    113|        4|     7.6|              2|                4|               1|     241|     24|    Clientes Fieis|\n",
      "|     12957|      9|        5|  403.71|              4|                4|               4|     444|     44|          Campeões|\n",
      "|     17128|    334|        1|   55.79|              1|                1|               2|     112|     11|        Hibernando|\n",
      "|     14439|    319|        1|  207.39|              1|                1|               4|     114|     11|        Hibernando|\n",
      "|     14810|     40|        9|   498.0|              3|                4|               4|     344|     34|    Clientes Fieis|\n",
      "|     17491|     36|        5|  135.49|              3|                4|               3|     343|     34|    Clientes Fieis|\n",
      "|     17917|    362|        1|    67.6|              1|                1|               2|     112|     11|        Hibernando|\n",
      "|     18106|    329|        1|   153.5|              1|                1|               3|     113|     11|        Hibernando|\n",
      "|     17855|    372|        1|   30.02|              1|                1|               1|     111|     11|        Hibernando|\n",
      "|     14443|     53|        3|  198.89|              3|                3|               4|     334|     33|Fieis em Potencial|\n",
      "|     12386|    337|        2|   23.91|              1|                2|               1|     121|     12|        Hibernando|\n",
      "|     15107|    332|        1|     8.5|              1|                1|               1|     111|     11|        Hibernando|\n",
      "|     18161|     64|        3|  168.06|              3|                3|               3|     333|     33|Fieis em Potencial|\n",
      "+----------+-------+---------+--------+---------------+-----------------+----------------+--------+-------+------------------+\n",
      "only showing top 20 rows\n",
      "\n"
     ]
    }
   ],
   "source": [
    "df_rfm = df_rfm.withColumn('CustomerClass', F.expr(\"CASE \"+\n",
    "                                          \"WHEN RFScore IN ('11','12') THEN 'Hibernando'\" +\n",
    "                                          \"WHEN RFScore IN ('13') THEN 'Em Risco'\" +\n",
    "                                          \"WHEN RFScore IN ('21', '22') THEN 'Indo Hibernar'\" +\n",
    "                                          \"WHEN RFScore IN ('23') THEN 'Precisa de Atenção'\" +\n",
    "                                          \"WHEN RFScore IN ('31') THEN 'Promissor'\" +\n",
    "                                          \"WHEN RFScore IN ('41') THEN 'Novos Clientes'\" +\n",
    "                                          \"WHEN RFScore IN ('32', '42', '33', '43') THEN 'Fieis em Potencial'\" +\n",
    "                                          \"WHEN RFScore IN ('14') THEN 'Não pode Perde-los'\" +\n",
    "                                          \"WHEN RFScore IN ('24', '34') THEN 'Clientes Fieis'\" +\n",
    "                                          \"WHEN RFScore IN ('44') THEN 'Campeões'\" +\n",
    "                                          \"ELSE RFScore END\"))\n",
    "df_rfm.show()"
   ]
  },
  {
   "cell_type": "markdown",
   "id": "fdfa9eb4",
   "metadata": {},
   "source": [
    "### 8 - Estudar RFM para cada classe de cliente"
   ]
  },
  {
   "cell_type": "code",
   "execution_count": 36,
   "id": "d9a35e67",
   "metadata": {},
   "outputs": [
    {
     "name": "stdout",
     "output_type": "stream",
     "text": [
      "+------------------+-----+------------------+------------------+------------------+\n",
      "|     CustomerClass|Count|       MeanRecency|     MeanFrequency|      MeanMonetary|\n",
      "+------------------+-----+------------------+------------------+------------------+\n",
      "|          Campeões|  335| 8.495522388059701|10.170149253731344| 562.2347164179102|\n",
      "|    Clientes Fieis|  327|  58.2262996941896| 6.382262996941896| 369.1680122324161|\n",
      "|Não pode Perde-los|   25|            224.68|               5.4|313.43600000000004|\n",
      "|          Em Risco|   44|235.04545454545453|               3.0| 164.8968181818182|\n",
      "|Precisa de Atenção|  129|112.98449612403101|               3.0|156.63441860465122|\n",
      "|Fieis em Potencial|  535|25.781308411214955|2.4299065420560746|154.32712149532705|\n",
      "|     Indo Hibernar|  555|114.61981981981982|1.3711711711711712| 79.88812612612617|\n",
      "|        Hibernando|  713|  267.945301542777| 1.187938288920056| 70.69516129032256|\n",
      "|         Promissor|  301| 43.82392026578073|               1.0| 63.49332225913628|\n",
      "|    Novos Clientes|  153|  12.4640522875817|               1.0|58.790849673202615|\n",
      "+------------------+-----+------------------+------------------+------------------+\n",
      "\n"
     ]
    }
   ],
   "source": [
    "df_customer = df_rfm.groupBy('CustomerClass').agg(F.count('CustomerID').alias('Count'), \\\n",
    "                                                  F.mean('Recency').alias('MeanRecency'), \\\n",
    "                                                  F.mean('Frequency').alias('MeanFrequency'), \\\n",
    "                                                  F.mean('Monetary').alias('MeanMonetary')). \\\n",
    "                                                  orderBy(F.col('MeanMonetary').desc())\n",
    "df_customer.show()"
   ]
  },
  {
   "cell_type": "code",
   "execution_count": 37,
   "id": "7a7b81d5",
   "metadata": {},
   "outputs": [
    {
     "name": "stdout",
     "output_type": "stream",
     "text": [
      "+------------------+-----+-----------+-------------+------------+\n",
      "|CustomerClass     |Count|MeanRecency|MeanFrequency|MeanMonetary|\n",
      "+------------------+-----+-----------+-------------+------------+\n",
      "|Campeões          |335  |8.5        |10.17        |562.23      |\n",
      "|Clientes Fieis    |327  |58.23      |6.38         |369.17      |\n",
      "|Não pode Perde-los|25   |224.68     |5.4          |313.44      |\n",
      "|Em Risco          |44   |235.05     |3.0          |164.9       |\n",
      "|Precisa de Atenção|129  |112.98     |3.0          |156.63      |\n",
      "|Fieis em Potencial|535  |25.78      |2.43         |154.33      |\n",
      "|Indo Hibernar     |555  |114.62     |1.37         |79.89       |\n",
      "|Hibernando        |713  |267.95     |1.19         |70.7        |\n",
      "|Promissor         |301  |43.82      |1.0          |63.49       |\n",
      "|Novos Clientes    |153  |12.46      |1.0          |58.79       |\n",
      "+------------------+-----+-----------+-------------+------------+\n",
      "\n"
     ]
    }
   ],
   "source": [
    "df_customer = df_customer.withColumn('MeanRecency', F.round('MeanRecency',2))\\\n",
    "                         .withColumn('MeanFrequency', F.round('MeanFrequency',2))\\\n",
    "                         .withColumn('MeanMonetary', F.round('MeanMonetary',2))\n",
    "df_customer.show(truncate=False)"
   ]
  },
  {
   "cell_type": "markdown",
   "id": "75673765",
   "metadata": {},
   "source": [
    "### 9 - Obter a porcentagem de clientes"
   ]
  },
  {
   "cell_type": "markdown",
   "id": "0f86eeed",
   "metadata": {},
   "source": [
    "##### collect() captura a celula unitaria para ser usada como variavel"
   ]
  },
  {
   "cell_type": "code",
   "execution_count": 38,
   "id": "c6a513a2",
   "metadata": {},
   "outputs": [],
   "source": [
    "total_customers = df_customer.select(F.sum('Count')).collect()[0][0]"
   ]
  },
  {
   "cell_type": "code",
   "execution_count": 39,
   "id": "deab15b3",
   "metadata": {},
   "outputs": [
    {
     "name": "stdout",
     "output_type": "stream",
     "text": [
      "+------------------+-----+-----------+-------------+------------+-----+\n",
      "|     CustomerClass|Count|MeanRecency|MeanFrequency|MeanMonetary|    %|\n",
      "+------------------+-----+-----------+-------------+------------+-----+\n",
      "|          Campeões|  335|        8.5|        10.17|      562.23|10.75|\n",
      "|    Clientes Fieis|  327|      58.23|         6.38|      369.17|10.49|\n",
      "|Não pode Perde-los|   25|     224.68|          5.4|      313.44|  0.8|\n",
      "|          Em Risco|   44|     235.05|          3.0|       164.9| 1.41|\n",
      "|Precisa de Atenção|  129|     112.98|          3.0|      156.63| 4.14|\n",
      "|Fieis em Potencial|  535|      25.78|         2.43|      154.33|17.16|\n",
      "|     Indo Hibernar|  555|     114.62|         1.37|       79.89|17.81|\n",
      "|        Hibernando|  713|     267.95|         1.19|        70.7|22.87|\n",
      "|         Promissor|  301|      43.82|          1.0|       63.49| 9.66|\n",
      "|    Novos Clientes|  153|      12.46|          1.0|       58.79| 4.91|\n",
      "+------------------+-----+-----------+-------------+------------+-----+\n",
      "\n"
     ]
    }
   ],
   "source": [
    "df_customer = df_customer.withColumn('%', F.round((F.col('Count') / F.lit(total_customers) * 100),2))\n",
    "df_customer.show()"
   ]
  },
  {
   "cell_type": "markdown",
   "id": "a9ec9bcf",
   "metadata": {},
   "source": [
    "##### Pode-se unificar as funções, desde que a saída seja uma coluna"
   ]
  },
  {
   "cell_type": "markdown",
   "id": "dea1bcd7",
   "metadata": {},
   "source": [
    "### 10 - Rearranjar colunas"
   ]
  },
  {
   "cell_type": "code",
   "execution_count": 40,
   "id": "8a771351",
   "metadata": {},
   "outputs": [
    {
     "name": "stdout",
     "output_type": "stream",
     "text": [
      "+------------------+-----+-----+-----------+-------------+------------+\n",
      "|     CustomerClass|Count|    %|MeanRecency|MeanFrequency|MeanMonetary|\n",
      "+------------------+-----+-----+-----------+-------------+------------+\n",
      "|          Campeões|  335|10.75|        8.5|        10.17|      562.23|\n",
      "|    Clientes Fieis|  327|10.49|      58.23|         6.38|      369.17|\n",
      "|Não pode Perde-los|   25|  0.8|     224.68|          5.4|      313.44|\n",
      "|          Em Risco|   44| 1.41|     235.05|          3.0|       164.9|\n",
      "|Precisa de Atenção|  129| 4.14|     112.98|          3.0|      156.63|\n",
      "|Fieis em Potencial|  535|17.16|      25.78|         2.43|      154.33|\n",
      "|     Indo Hibernar|  555|17.81|     114.62|         1.37|       79.89|\n",
      "|        Hibernando|  713|22.87|     267.95|         1.19|        70.7|\n",
      "|         Promissor|  301| 9.66|      43.82|          1.0|       63.49|\n",
      "|    Novos Clientes|  153| 4.91|      12.46|          1.0|       58.79|\n",
      "+------------------+-----+-----+-----------+-------------+------------+\n",
      "\n"
     ]
    }
   ],
   "source": [
    "df_customer = df_customer.select('CustomerClass', 'Count', '%', 'MeanRecency', 'MeanFrequency', 'MeanMonetary')\n",
    "df_customer.show()"
   ]
  },
  {
   "cell_type": "markdown",
   "id": "4e1fa279",
   "metadata": {},
   "source": [
    "### IV - Export"
   ]
  },
  {
   "cell_type": "code",
   "execution_count": 41,
   "id": "ff4780ae",
   "metadata": {},
   "outputs": [],
   "source": [
    "#df_rfm.write.mode('overwrite').parquet('output_rfm')\n",
    "#df_customer.write.mode('overwrite').parquet('output_customer')"
   ]
  },
  {
   "cell_type": "code",
   "execution_count": 42,
   "id": "3b8a26e5",
   "metadata": {},
   "outputs": [],
   "source": [
    "df_rfm_pandas = df_rfm.toPandas()\n",
    "df_customer_pandas = df_customer.toPandas()"
   ]
  },
  {
   "cell_type": "code",
   "execution_count": 46,
   "id": "c5bffe81",
   "metadata": {},
   "outputs": [],
   "source": [
    "df_rfm_pandas.to_csv('data/refined/output_rfm.csv', index=False, encoding='utf-8')\n",
    "df_customer_pandas.to_csv('data/refined/output_customer.csv', index=False, encoding='utf-8')"
   ]
  }
 ],
 "metadata": {
  "kernelspec": {
   "display_name": "Python 3",
   "language": "python",
   "name": "python3"
  },
  "language_info": {
   "codemirror_mode": {
    "name": "ipython",
    "version": 3
   },
   "file_extension": ".py",
   "mimetype": "text/x-python",
   "name": "python",
   "nbconvert_exporter": "python",
   "pygments_lexer": "ipython3",
   "version": "3.8.6 (tags/v3.8.6:db45529, Sep 23 2020, 15:52:53) [MSC v.1927 64 bit (AMD64)]"
  },
  "vscode": {
   "interpreter": {
    "hash": "dbd1f37cdd5c928ac007ae29ce655948a65dc7a30da9d3935ee2a4f2cbaacde5"
   }
  }
 },
 "nbformat": 4,
 "nbformat_minor": 5
}
